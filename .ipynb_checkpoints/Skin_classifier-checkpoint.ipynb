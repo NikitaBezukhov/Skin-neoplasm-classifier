{
 "cells": [
  {
   "cell_type": "markdown",
   "metadata": {
    "id": "SUs6go0MNDT5",
    "outputId": "4c70249f-592f-4c5e-cfa6-c2148249b8d1"
   },
   "source": [
    "# __This is a notebook of a PyTorch skin cancer classification with ResNet50!__ \n",
    "# Project by __[Nikita Bezukhov](https://github.com/NikitaBezukhov)__!\n",
    "### The data set is __[Skin Cancer MNIST: HAM10000 from Kaggle](https://www.kaggle.com/kmader/skin-cancer-mnist-ham10000)__.\n",
    "### Was built in __[Google Colab](https://colab.research.google.com/)__ environment, so make any adjustments needed for it to work on your machine."
   ]
  },
  {
   "cell_type": "markdown",
   "metadata": {
    "id": "Zy0BMLOvpEsI"
   },
   "source": [
    "####\n",
    "####\n",
    "## __1. First lets install, import and define all necessary libraries/classes/functions that we will be using.__"
   ]
  },
  {
   "cell_type": "markdown",
   "metadata": {
    "id": "zrcc1TUXSzzF"
   },
   "source": [
    "\n"
   ]
  },
  {
   "cell_type": "code",
   "execution_count": null,
   "metadata": {
    "colab": {
     "base_uri": "https://localhost:8080/"
    },
    "id": "uh7wdOC8SzzF",
    "outputId": "73641f3a-03cf-47d4-b523-f998ee9aa361"
   },
   "outputs": [],
   "source": [
    "pip install barbar pytorch-ignite"
   ]
  },
  {
   "cell_type": "code",
   "execution_count": 2,
   "metadata": {
    "id": "9sq7HKYBo31x"
   },
   "outputs": [],
   "source": [
    "import torch\n",
    "import os\n",
    "import random\n",
    "import torchvision\n",
    "import pandas as pd\n",
    "import torch.nn as nn\n",
    "import numpy as np\n",
    "from torchvision import transforms, datasets\n",
    "from shutil import copyfile, move\n",
    "from torch.utils.tensorboard import SummaryWriter\n",
    "from barbar import Bar\n",
    "from torchsummary import summary\n",
    "from ignite.metrics import Accuracy\n",
    "from sklearn.metrics import confusion_matrix, ConfusionMatrixDisplay, classification_report, roc_auc_score"
   ]
  },
  {
   "cell_type": "code",
   "execution_count": null,
   "metadata": {
    "id": "8sdxjNlv7iWY"
   },
   "outputs": [],
   "source": [
    "class EarlyStopping:\n",
    "    \"\"\"Early stops the training if validation loss doesn't improve after a given patience.\"\"\"\n",
    "    def __init__(self, patience=7, verbose=False, delta=0, path='checkpoint.pt', trace_func=print):\n",
    "        \"\"\"\n",
    "        Args:\n",
    "            patience (int): How long to wait after last time validation loss improved.\n",
    "                            Default: 7\n",
    "            verbose (bool): If True, prints a message for each validation loss improvement. \n",
    "                            Default: False\n",
    "            delta (float): Minimum change in the monitored quantity to qualify as an improvement.\n",
    "                            Default: 0\n",
    "            path (str): Path for the checkpoint to be saved to.\n",
    "                            Default: 'checkpoint.pt'\n",
    "            trace_func (function): trace print function.\n",
    "                            Default: print            \n",
    "        \"\"\"\n",
    "        self.patience = patience\n",
    "        self.verbose = verbose\n",
    "        self.counter = 0\n",
    "        self.best_score = None\n",
    "        self.early_stop = False\n",
    "        self.val_loss_min = np.Inf\n",
    "        self.delta = delta\n",
    "        self.path = path\n",
    "        self.trace_func = trace_func\n",
    "    def __call__(self, val_loss, model):\n",
    "\n",
    "        score = -val_loss\n",
    "\n",
    "        if self.best_score is None:\n",
    "            self.best_score = score\n",
    "            self.save_checkpoint(val_loss, model)\n",
    "        elif score < self.best_score + self.delta:\n",
    "            self.counter += 1\n",
    "            self.trace_func(f'EarlyStopping counter: {self.counter} out of {self.patience}')\n",
    "            if self.counter >= self.patience:\n",
    "                self.early_stop = True\n",
    "        else:\n",
    "            self.best_score = score\n",
    "            self.save_checkpoint(val_loss, model)\n",
    "            self.counter = 0\n",
    "\n",
    "    def save_checkpoint(self, val_loss, model):\n",
    "        '''Saves model when monitored metric decrease.'''\n",
    "        if self.verbose:\n",
    "            self.trace_func(f'Monitored metric has improved ({self.val_loss_min:.6f} --> {val_loss:.6f}).  Saving model ...')\n",
    "        torch.save(model.state_dict(), f'/content/drive/MyDrive/skin_models/skinmodel50.pt') \n",
    "        self.val_loss_min = val_loss"
   ]
  },
  {
   "cell_type": "code",
   "execution_count": null,
   "metadata": {
    "id": "su4OIQ2CpFXB"
   },
   "outputs": [],
   "source": [
    "def split_data(source, training, validation, split_size):    \n",
    "    files = []\n",
    "    for filename in os.listdir(source):\n",
    "        file = source + filename\n",
    "        if os.path.getsize(file) > 0:\n",
    "            files.append(filename)\n",
    "        else:\n",
    "            print(filename + \" is zero length, so ignoring.\")\n",
    "\n",
    "    training_length = int(len(files) * split_size)\n",
    "    validation_length = int(len(files) - training_length)\n",
    "    shuffled_set = random.sample(files, len(files))\n",
    "    training_set = shuffled_set[0:training_length]\n",
    "    validation_set = shuffled_set[:validation_length]\n",
    "\n",
    "    for filename in training_set:\n",
    "        this_file = source + filename\n",
    "        destination = training + filename\n",
    "        copyfile(this_file, destination)\n",
    "\n",
    "    for filename in validation_set:\n",
    "        this_file = source + filename\n",
    "        destination = validation + filename\n",
    "        copyfile(this_file, destination)"
   ]
  },
  {
   "cell_type": "markdown",
   "metadata": {
    "id": "YIg7C2rTSzzJ"
   },
   "source": [
    "## __2. Data preparation.__\n",
    "### Dataset consists of 7 classes of skin neoplasms that will be abbreviated as: Melanoma (MEL), Melanocytic nevi (NV), Basal cell carcinoma (BCC),  Actinic keratoses and intraepithelial carcinoma / Bowen's disease (AKIEC), Benign keratosis-like lesions (solar lentigines / seborrheic keratoses and lichen-planus like keratoses, BKL), Dermatofibroma (DF), Vascular lesions (angiomas, angiokeratomas, pyogenic granulomas and hemorrhage, VASC)\n",
    "###  Since the dataset on kaggle was clunky I predownloaded it, put all images in one folder, archived it together with Data info cvs file and uploaded to my Google disk to use from there. \n",
    "### So now we unzip it and prepare folders for data split. "
   ]
  },
  {
   "cell_type": "code",
   "execution_count": null,
   "metadata": {
    "colab": {
     "base_uri": "https://localhost:8080/"
    },
    "id": "WdrQekgPpFc1",
    "outputId": "5805603a-e8a7-40cd-b843-10cc43e98cb4"
   },
   "outputs": [],
   "source": [
    "!unzip /content/drive/MyDrive/Skin.zip -d /content"
   ]
  },
  {
   "cell_type": "code",
   "execution_count": null,
   "metadata": {
    "id": "lTDB1CVGpFZ5"
   },
   "outputs": [],
   "source": [
    "os.mkdir('/content/orig/')\n",
    "os.mkdir('/content/orig/0.MEL/')\n",
    "os.mkdir('/content/orig/1.NV/')\n",
    "os.mkdir('/content/orig/2.BCC/')\n",
    "os.mkdir('/content/orig/3.AKIEC/')\n",
    "os.mkdir('/content/orig/4.BKL/')\n",
    "os.mkdir('/content/orig/5.DF/')\n",
    "os.mkdir('/content/orig/6.VASC/')\n",
    "\n",
    "os.mkdir('/content/skin/')\n",
    "os.mkdir('/content/skin/training/')\n",
    "os.mkdir('/content/skin/validation/')\n",
    "os.mkdir('/content/skin/training/0.MEL/')\n",
    "os.mkdir('/content/skin/training/1.NV/')\n",
    "os.mkdir('/content/skin/training/2.BCC/')\n",
    "os.mkdir('/content/skin/training/3.AKIEC/')\n",
    "os.mkdir('/content/skin/training/4.BKL/')\n",
    "os.mkdir('/content/skin/training/5.DF/')\n",
    "os.mkdir('/content/skin/training/6.VASC/')\n",
    "os.mkdir('/content/skin/validation/0.MEL/')\n",
    "os.mkdir('/content/skin/validation/1.NV/')\n",
    "os.mkdir('/content/skin/validation/2.BCC/')\n",
    "os.mkdir('/content/skin/validation/3.AKIEC/')\n",
    "os.mkdir('/content/skin/validation/4.BKL/')\n",
    "os.mkdir('/content/skin/validation/5.DF/')\n",
    "os.mkdir('/content/skin/validation/6.VASC/')"
   ]
  },
  {
   "cell_type": "code",
   "execution_count": 5,
   "metadata": {
    "id": "ywLviWRAzvMJ"
   },
   "outputs": [],
   "source": [
    "orig_all = '/content/HAM10000/'\n",
    "source_MEL = '/content/orig/0.MEL/'\n",
    "source_NV = '/content/orig/1.NV/'\n",
    "source_BCC = '/content/orig/2.BCC/'\n",
    "source_AKIEC = '/content/orig/3.AKIEC/'\n",
    "source_BKL = '/content/orig/4.BKL/'\n",
    "source_DF = '/content/orig/5.DF/'\n",
    "source_VASC = '/content/orig/6.VASC/'\n",
    "\n",
    "training_MEL = '/content/skin/training/0.MEL/'\n",
    "training_NV = '/content/skin/training/1.NV/'\n",
    "training_BCC = '/content/skin/training/2.BCC/'\n",
    "training_AKIEC = '/content/skin/training/3.AKIEC/'\n",
    "training_BKL = '/content/skin/training/4.BKL/'\n",
    "training_DF = '/content/skin/training/5.DF/'\n",
    "training_VASC = '/content/skin/training/6.VASC/'\n",
    "validation_MEL = '/content/skin/validation/0.MEL/'\n",
    "validation_NV = '/content/skin/validation/1.NV/'\n",
    "validation_BCC = '/content/skin/validation/2.BCC/'\n",
    "validation_AKIEC = '/content/skin/validation/3.AKIEC/'\n",
    "validation_BKL = '/content/skin/validation/4.BKL/'\n",
    "validation_DF = '/content/skin/validation/5.DF/'\n",
    "validation_VASC = '/content/skin/validation/6.VASC/'"
   ]
  },
  {
   "cell_type": "markdown",
   "metadata": {
    "id": "hyrTAZw0SzzL"
   },
   "source": [
    "##\n",
    "### Dataset has some photos of the same skin neoplasms but slightly rescaled.  \n",
    "### Neoplasms are identified by lesion_id.   \n",
    "###  We will read into the csv file with info about dataset and drop all duplicate photos by lesion_id to make all our photos iid (independant and identically distributed), so that we wont overfit and wont randomly put duplicate photos into validation set, othervise validation metrics would be useless. "
   ]
  },
  {
   "cell_type": "code",
   "execution_count": null,
   "metadata": {
    "id": "peei-Pn3xf71"
   },
   "outputs": [],
   "source": [
    "data = pd.read_csv(r'/content/HAM10000_metadata.csv')"
   ]
  },
  {
   "cell_type": "code",
   "execution_count": null,
   "metadata": {
    "colab": {
     "base_uri": "https://localhost:8080/",
     "height": 204
    },
    "id": "8qwLI0iXaA9I",
    "outputId": "5bdf5569-1164-47ba-d2fd-b0600eb2f8c9"
   },
   "outputs": [
    {
     "data": {
      "text/html": [
       "<div>\n",
       "<style scoped>\n",
       "    .dataframe tbody tr th:only-of-type {\n",
       "        vertical-align: middle;\n",
       "    }\n",
       "\n",
       "    .dataframe tbody tr th {\n",
       "        vertical-align: top;\n",
       "    }\n",
       "\n",
       "    .dataframe thead th {\n",
       "        text-align: right;\n",
       "    }\n",
       "</style>\n",
       "<table border=\"1\" class=\"dataframe\">\n",
       "  <thead>\n",
       "    <tr style=\"text-align: right;\">\n",
       "      <th></th>\n",
       "      <th>lesion_id</th>\n",
       "      <th>image_id</th>\n",
       "      <th>dx</th>\n",
       "      <th>dx_type</th>\n",
       "      <th>age</th>\n",
       "      <th>sex</th>\n",
       "      <th>localization</th>\n",
       "    </tr>\n",
       "  </thead>\n",
       "  <tbody>\n",
       "    <tr>\n",
       "      <th>0</th>\n",
       "      <td>HAM_0000118</td>\n",
       "      <td>ISIC_0027419</td>\n",
       "      <td>bkl</td>\n",
       "      <td>histo</td>\n",
       "      <td>80.0</td>\n",
       "      <td>male</td>\n",
       "      <td>scalp</td>\n",
       "    </tr>\n",
       "    <tr>\n",
       "      <th>1</th>\n",
       "      <td>HAM_0000118</td>\n",
       "      <td>ISIC_0025030</td>\n",
       "      <td>bkl</td>\n",
       "      <td>histo</td>\n",
       "      <td>80.0</td>\n",
       "      <td>male</td>\n",
       "      <td>scalp</td>\n",
       "    </tr>\n",
       "    <tr>\n",
       "      <th>2</th>\n",
       "      <td>HAM_0002730</td>\n",
       "      <td>ISIC_0026769</td>\n",
       "      <td>bkl</td>\n",
       "      <td>histo</td>\n",
       "      <td>80.0</td>\n",
       "      <td>male</td>\n",
       "      <td>scalp</td>\n",
       "    </tr>\n",
       "    <tr>\n",
       "      <th>3</th>\n",
       "      <td>HAM_0002730</td>\n",
       "      <td>ISIC_0025661</td>\n",
       "      <td>bkl</td>\n",
       "      <td>histo</td>\n",
       "      <td>80.0</td>\n",
       "      <td>male</td>\n",
       "      <td>scalp</td>\n",
       "    </tr>\n",
       "    <tr>\n",
       "      <th>4</th>\n",
       "      <td>HAM_0001466</td>\n",
       "      <td>ISIC_0031633</td>\n",
       "      <td>bkl</td>\n",
       "      <td>histo</td>\n",
       "      <td>75.0</td>\n",
       "      <td>male</td>\n",
       "      <td>ear</td>\n",
       "    </tr>\n",
       "  </tbody>\n",
       "</table>\n",
       "</div>"
      ],
      "text/plain": [
       "     lesion_id      image_id   dx dx_type   age   sex localization\n",
       "0  HAM_0000118  ISIC_0027419  bkl   histo  80.0  male        scalp\n",
       "1  HAM_0000118  ISIC_0025030  bkl   histo  80.0  male        scalp\n",
       "2  HAM_0002730  ISIC_0026769  bkl   histo  80.0  male        scalp\n",
       "3  HAM_0002730  ISIC_0025661  bkl   histo  80.0  male        scalp\n",
       "4  HAM_0001466  ISIC_0031633  bkl   histo  75.0  male          ear"
      ]
     },
     "execution_count": 11,
     "metadata": {
      "tags": []
     },
     "output_type": "execute_result"
    }
   ],
   "source": [
    "data.head()"
   ]
  },
  {
   "cell_type": "code",
   "execution_count": null,
   "metadata": {
    "colab": {
     "base_uri": "https://localhost:8080/"
    },
    "id": "yoiPPr9hyQgE",
    "outputId": "aedd5e7e-b53c-42ef-bb66-b6dc3703d134"
   },
   "outputs": [
    {
     "data": {
      "text/plain": [
       "Index(['lesion_id', 'image_id', 'dx', 'dx_type', 'age', 'sex', 'localization'], dtype='object')"
      ]
     },
     "execution_count": 12,
     "metadata": {
      "tags": []
     },
     "output_type": "execute_result"
    }
   ],
   "source": [
    "data.columns"
   ]
  },
  {
   "cell_type": "code",
   "execution_count": null,
   "metadata": {
    "colab": {
     "base_uri": "https://localhost:8080/"
    },
    "id": "2vW83TCvYWW4",
    "outputId": "dfb91f57-7f08-43c3-874d-c8b1864e1289"
   },
   "outputs": [
    {
     "data": {
      "text/plain": [
       "10015"
      ]
     },
     "execution_count": 13,
     "metadata": {
      "tags": []
     },
     "output_type": "execute_result"
    }
   ],
   "source": [
    "len(data)"
   ]
  },
  {
   "cell_type": "code",
   "execution_count": null,
   "metadata": {
    "id": "9P1e3oa3YJ9F"
   },
   "outputs": [],
   "source": [
    "data = data.drop_duplicates(subset='lesion_id')"
   ]
  },
  {
   "cell_type": "code",
   "execution_count": null,
   "metadata": {
    "colab": {
     "base_uri": "https://localhost:8080/"
    },
    "id": "QspFBwwQYksy",
    "outputId": "fb5428b5-2273-4445-989d-c5d9ab1bb4a2"
   },
   "outputs": [
    {
     "data": {
      "text/plain": [
       "7470"
      ]
     },
     "execution_count": 15,
     "metadata": {
      "tags": []
     },
     "output_type": "execute_result"
    }
   ],
   "source": [
    "len(data)"
   ]
  },
  {
   "cell_type": "markdown",
   "metadata": {
    "id": "YdvlhZDpSzzP"
   },
   "source": [
    "##\n",
    "###  Now using list comprehensions we will save all image names and their diagnosis in variables, and using for loop we will sort and copy all files by their diagnosis into the corresponding folders.\n",
    "### Then we will split each individual class of photos into train and val datasets 80/20%."
   ]
  },
  {
   "cell_type": "code",
   "execution_count": null,
   "metadata": {
    "id": "9kwFEZTByQZ1"
   },
   "outputs": [],
   "source": [
    "image_names = [x for x in data['image_id']]\n",
    "diagnosis = [x for x in data['dx']]"
   ]
  },
  {
   "cell_type": "code",
   "execution_count": null,
   "metadata": {
    "colab": {
     "base_uri": "https://localhost:8080/"
    },
    "id": "7CrSaCzlyQPt",
    "outputId": "dfafa530-0c4b-44db-a3d3-6434d1935c73"
   },
   "outputs": [
    {
     "name": "stdout",
     "output_type": "stream",
     "text": [
      "7470\n",
      "7470\n"
     ]
    }
   ],
   "source": [
    "print(len(image_names))\n",
    "print(len(diagnosis))"
   ]
  },
  {
   "cell_type": "code",
   "execution_count": null,
   "metadata": {
    "colab": {
     "base_uri": "https://localhost:8080/"
    },
    "id": "JeV0V03FyQEL",
    "outputId": "ceeee7ca-4014-47e2-f663-32ae4c79eaef"
   },
   "outputs": [
    {
     "name": "stdout",
     "output_type": "stream",
     "text": [
      "ISIC_0027419\n",
      "bkl\n"
     ]
    }
   ],
   "source": [
    "print(image_names[0])\n",
    "print(diagnosis[0])"
   ]
  },
  {
   "cell_type": "code",
   "execution_count": null,
   "metadata": {
    "colab": {
     "base_uri": "https://localhost:8080/"
    },
    "id": "r9W6M8INzUKO",
    "outputId": "0c591712-2f20-4a05-8b4a-26870f6600c2"
   },
   "outputs": [
    {
     "name": "stdout",
     "output_type": "stream",
     "text": [
      "<class 'str'>\n",
      "<class 'str'>\n"
     ]
    }
   ],
   "source": [
    "print(type(image_names[0]))\n",
    "print(type(diagnosis[0]))\n"
   ]
  },
  {
   "cell_type": "code",
   "execution_count": null,
   "metadata": {
    "colab": {
     "base_uri": "https://localhost:8080/"
    },
    "id": "CaSKq1zZgdEL",
    "outputId": "b6ac29ce-77d5-4503-e8f5-65b315728b45"
   },
   "outputs": [
    {
     "data": {
      "text/plain": [
       "array(['bkl', 'nv', 'df', 'mel', 'vasc', 'bcc', 'akiec'], dtype=object)"
      ]
     },
     "execution_count": 20,
     "metadata": {
      "tags": []
     },
     "output_type": "execute_result"
    }
   ],
   "source": [
    "pd.unique(data['dx'])"
   ]
  },
  {
   "cell_type": "code",
   "execution_count": null,
   "metadata": {
    "id": "qi0fOJfJzUDq"
   },
   "outputs": [],
   "source": [
    "for index, image in enumerate(image_names):\n",
    "    image = image + '.jpg'\n",
    "    if diagnosis[index] == 'mel':\n",
    "        copyfile(os.path.join(orig_all, image), os.path.join(source_MEL, image))\n",
    "    elif diagnosis[index] == 'nv':\n",
    "        copyfile(os.path.join(orig_all, image), os.path.join(source_NV, image))\n",
    "    elif diagnosis[index] == 'bcc': \n",
    "        copyfile(os.path.join(orig_all, image), os.path.join(source_BCC, image))\n",
    "    elif diagnosis[index] == 'akiec': \n",
    "        copyfile(os.path.join(orig_all, image), os.path.join(source_AKIEC, image))\n",
    "    elif diagnosis[index] == 'bkl':\n",
    "        copyfile(os.path.join(orig_all, image), os.path.join(source_BKL, image))\n",
    "    elif diagnosis[index] == 'df':  \n",
    "        copyfile(os.path.join(orig_all, image), os.path.join(source_DF, image))\n",
    "    elif diagnosis[index] == 'vasc': \n",
    "        copyfile(os.path.join(orig_all, image), os.path.join(source_VASC, image))            "
   ]
  },
  {
   "cell_type": "code",
   "execution_count": null,
   "metadata": {
    "colab": {
     "base_uri": "https://localhost:8080/"
    },
    "id": "wkIKhjpKcLph",
    "outputId": "ee93db56-5625-491f-cbd2-3ae9edc225c1"
   },
   "outputs": [
    {
     "name": "stdout",
     "output_type": "stream",
     "text": [
      "614\n",
      "5403\n",
      "327\n",
      "228\n",
      "727\n",
      "73\n",
      "98\n"
     ]
    }
   ],
   "source": [
    "# Print amount of pictures for each class\n",
    "print(len(os.listdir(source_MEL)))\n",
    "print(len(os.listdir(source_NV)))\n",
    "print(len(os.listdir(source_BCC)))\n",
    "print(len(os.listdir(source_AKIEC)))\n",
    "print(len(os.listdir(source_BKL)))\n",
    "print(len(os.listdir(source_DF)))\n",
    "print(len(os.listdir(source_VASC)))"
   ]
  },
  {
   "cell_type": "code",
   "execution_count": null,
   "metadata": {
    "id": "S_zFUmHqpFUI"
   },
   "outputs": [],
   "source": [
    "split_size = 0.8\n",
    "split_data(source_MEL, training_MEL, validation_MEL, split_size)\n",
    "split_data(source_NV, training_NV, validation_NV, split_size)\n",
    "split_data(source_BCC, training_BCC, validation_BCC, split_size)\n",
    "split_data(source_AKIEC, training_AKIEC, validation_AKIEC, split_size)\n",
    "split_data(source_BKL, training_BKL, validation_BKL, split_size)\n",
    "split_data(source_DF, training_DF, validation_DF, split_size)\n",
    "split_data(source_VASC, training_VASC, validation_VASC, split_size)"
   ]
  },
  {
   "cell_type": "code",
   "execution_count": null,
   "metadata": {
    "colab": {
     "base_uri": "https://localhost:8080/"
    },
    "id": "y_iSw5tRpFRU",
    "outputId": "8347f0c5-5046-48a7-964c-a079de3bd1d7"
   },
   "outputs": [
    {
     "name": "stdout",
     "output_type": "stream",
     "text": [
      "491\n",
      "123\n",
      "4322\n",
      "1081\n",
      "261\n",
      "66\n",
      "182\n",
      "46\n",
      "581\n",
      "146\n",
      "58\n",
      "15\n",
      "78\n",
      "20\n"
     ]
    }
   ],
   "source": [
    "# Print amount of pictures for each class after split, train/val.\n",
    "print(len(os.listdir(training_MEL)))\n",
    "print(len(os.listdir(validation_MEL)))\n",
    "print(len(os.listdir(training_NV)))\n",
    "print(len(os.listdir(validation_NV)))\n",
    "print(len(os.listdir(training_BCC)))\n",
    "print(len(os.listdir(validation_BCC)))\n",
    "print(len(os.listdir(training_AKIEC)))\n",
    "print(len(os.listdir(validation_AKIEC)))\n",
    "print(len(os.listdir(training_BKL)))\n",
    "print(len(os.listdir(validation_BKL)))\n",
    "print(len(os.listdir(training_DF)))\n",
    "print(len(os.listdir(validation_DF)))\n",
    "print(len(os.listdir(training_VASC)))\n",
    "print(len(os.listdir(validation_VASC)))"
   ]
  },
  {
   "cell_type": "markdown",
   "metadata": {
    "id": "3my8PCnLpFOY"
   },
   "source": [
    "### Even though dataset is greatly skewed, during project development I tried to train model with class weights, but I got worse results than with straight up imbalanced training. \n",
    "### I came to conclusion that inherent regularization of ResNet50 due to Bottleneck layers and Batch normalization together with weight decay and random data augmentations is enough to prevent model from overfitting even on this imbalanced of a dataset."
   ]
  },
  {
   "cell_type": "code",
   "execution_count": 6,
   "metadata": {
    "id": "gVZAs_EiSzzS"
   },
   "outputs": [],
   "source": [
    "traindir = r'/content/skin/training/'\n",
    "valdir = r'/content/skin/validation/'"
   ]
  },
  {
   "cell_type": "markdown",
   "metadata": {
    "id": "RKzx3iKcSzzT"
   },
   "source": [
    "##\n",
    "## __3. Data augmentation.__\n",
    "### Dataset consists of 7470 unique skin neoplasm photos with height=450 and width=600 pixels.\n",
    "### By examining the pictures I noticed that in overwhelming majority off them the skin neoplasm is centerd and lies in the center 450x450 crop of the picture (with little exceptions).\n",
    "### So I believe that there is no reason to squeeze photos on width axis (and lose valuable information) during resize, since our object of interest is almost always in the center crop. We will squueze photos only a little bit to better capture objects that cant fit in 450x450 crop.\n",
    "### Since we are using ResNet50, to get to 224x224 size, we will first resize to 224x280 (6.25% squeeze on width) and then center crop 224x224 piece.\n",
    "### Other beneficial transformations could be Random rotation and Horizontal/Vertical flipping. Since skin neoplasms can be in a lot of different shapes, by rotating and horizontally flipping them we will still get skin neoplasms that we would expect our model to classify correctly. These two transformations will help our model greatly. They will inflate our dataset, increase model robustness (especially since we have some classes with very small representation), help with better generalization and overfitting prevention.\n",
    "### And because we will be using pretrained ResNet50 ImageNet weights to start with, we will use ImageNet style normalization. (only after this project was made I learned that ImageNet normalization only ok if your data set is similar to ImageNet, so I should have calculated mean and std of my own data, but model was able to learn pretty well anyways, so it didnt turn out to be a problem)\n",
    "### Batch size will be 64."
   ]
  },
  {
   "cell_type": "code",
   "execution_count": 7,
   "metadata": {
    "id": "zxinrQSDpFLS"
   },
   "outputs": [],
   "source": [
    "train_transforms = transforms.Compose([\n",
    "    transforms.Resize((224, 280)),\n",
    "    transforms.CenterCrop((224, 224)),\n",
    "    transforms.RandomHorizontalFlip(p=0.5),\n",
    "    transforms.RandomApply(transforms=[transforms.RandomRotation(degrees=(-180, 180))], p=0.99),\n",
    "    transforms.ToTensor(),\n",
    "    transforms.Normalize(mean=[0.485, 0.456, 0.406], std=[0.229, 0.224, 0.225])\n",
    "    ])\n",
    "\n",
    "val_transforms = transforms.Compose([\n",
    "    transforms.Resize((224, 280)),\n",
    "    torchvision.transforms.CenterCrop((224, 224)),\n",
    "    transforms.ToTensor(),\n",
    "    transforms.Normalize(mean=[0.485, 0.456, 0.406], std=[0.229, 0.224, 0.225])\n",
    "    ])\n",
    "\n",
    "train_dataset = datasets.ImageFolder(\n",
    "    traindir, transform=train_transforms)\n",
    "\n",
    "val_dataset = datasets.ImageFolder(\n",
    "    valdir, transform=val_transforms)"
   ]
  },
  {
   "cell_type": "code",
   "execution_count": 8,
   "metadata": {
    "id": "KlSHFf5LpFFH"
   },
   "outputs": [],
   "source": [
    "train_loader = torch.utils.data.DataLoader(\n",
    "    train_dataset, batch_size=64, shuffle=True,\n",
    "    pin_memory=False, drop_last=False)\n",
    "\n",
    "val_loader = torch.utils.data.DataLoader(\n",
    "    val_dataset, batch_size=64, shuffle=True,\n",
    "    pin_memory=False, drop_last=False)"
   ]
  },
  {
   "cell_type": "code",
   "execution_count": null,
   "metadata": {
    "colab": {
     "base_uri": "https://localhost:8080/"
    },
    "id": "VfE6jd4UpFCL",
    "outputId": "a7cbea6e-2df0-46fd-fb57-03e30abaf124"
   },
   "outputs": [],
   "source": [
    "print(val_dataset.class_to_idx)\n",
    "print(train_dataset.class_to_idx)"
   ]
  },
  {
   "cell_type": "markdown",
   "metadata": {
    "id": "FWhSCQygSzzU"
   },
   "source": [
    "##\n",
    "## __4. Training.__\n",
    "### Next we define model, change final layer to a 7 way linear classifier, choose Cross Entropy loss function, Adam optimizer (with 0.0001 weight decay), define TensorBoard writer, and since we will be using early stopping, the epoch number will be set to 999."
   ]
  },
  {
   "cell_type": "code",
   "execution_count": null,
   "metadata": {
    "colab": {
     "base_uri": "https://localhost:8080/",
     "height": 83,
     "referenced_widgets": [
      "581a27dd91bc472aa20bdbb2fbe794fe",
      "7cb55a1237a14f27ab76d29213929c6b",
      "bfd31272c80a423689c64c1c2e188e5f",
      "2c91fd89d7094f8ea80eab7135278b66",
      "67a4bc927924426986a014b522a2d3ac",
      "1acf94a172b34beb97719742f7a340ab",
      "518ad6c229e24a889f18f5dc571b49a1",
      "cf56e07ca31e4aaead598e4c76ed59c0"
     ]
    },
    "id": "pCMQWo1dpE_M",
    "outputId": "8856118e-5cc1-4b6a-efc3-9bce1d2439f0"
   },
   "outputs": [],
   "source": [
    "device = 'cuda'\n",
    "\n",
    "model = torchvision.models.resnet50(pretrained=True).to(device)\n",
    "\n",
    "model.fc = nn.Linear(2048, 7).to(device)\n",
    "\n",
    "criterion = nn.CrossEntropyLoss()\n",
    "\n",
    "optimizer = torch.optim.Adam(model.parameters(), weight_decay=0.0001)\n",
    "\n",
    "epochs = 999\n",
    "\n",
    "writer = SummaryWriter(log_dir='/content/drive/MyDrive/skin_logs/', filename_suffix=\"skin50\")"
   ]
  },
  {
   "cell_type": "code",
   "execution_count": null,
   "metadata": {
    "colab": {
     "base_uri": "https://localhost:8080/"
    },
    "id": "4gMODuddjaVl",
    "outputId": "a7fc940f-f241-4e1b-aa62-5de181531cf6"
   },
   "outputs": [],
   "source": [
    "# Shows info about model\n",
    "summary(model, input_size=(3, 224, 224))"
   ]
  },
  {
   "cell_type": "markdown",
   "metadata": {
    "id": "pSSsCalmSzzV"
   },
   "source": [
    "##\n",
    "### Early stopping tracks validation loss decrease and patience was chosen to be 50. This big of a number is justified, because while developing this project I trained the model a few times and after 80-100 epochs model still slowly and steadily decreases training loss and not overfitting, but validation loss moves pretty stochastically, so not to stop too early patience was chosen to be 50 epochs."
   ]
  },
  {
   "cell_type": "code",
   "execution_count": null,
   "metadata": {
    "colab": {
     "base_uri": "https://localhost:8080/",
     "height": 1000
    },
    "id": "n3of0fhypE8O",
    "outputId": "94a44f1b-92b2-46f7-b60e-2f7fad958193"
   },
   "outputs": [],
   "source": [
    "early_stopping = EarlyStopping(patience=50, verbose=True)\n",
    "\n",
    "for epoch in range(epochs):\n",
    "    train_loss = 0.00\n",
    "    val_loss = 0.00\n",
    "    train_accuracy = Accuracy()\n",
    "    val_accuracy = Accuracy()\n",
    "    print(f'Epoch {epoch+1}')\n",
    "\n",
    "    # Training loop\n",
    "    for idx, (inputs, labels) in enumerate(Bar(train_loader)):\n",
    "        model.train()\n",
    "        inputs, labels = inputs.to(device), labels.to(device)\n",
    "        optimizer.zero_grad() \n",
    "        outputs = model(inputs) \n",
    "        loss = criterion(outputs, labels)\n",
    "        loss.backward() \n",
    "        optimizer.step() \n",
    "        train_loss += loss.item()\n",
    "        train_accuracy.update((torch.round(nn.functional.softmax(outputs, dim=1)), labels))\n",
    "    print(f\"Train Accuracy: {train_accuracy.compute()}\")\n",
    "    train_loss /= len(train_loader)\n",
    "    train_loss_formated = \"{:.4f}\".format(train_loss)\n",
    "\n",
    "    # Validation loop\n",
    "    with torch.no_grad():\n",
    "        for inputs, labels in val_loader:\n",
    "            model.eval()           \n",
    "            inputs, labels = inputs.to(device), labels.to(device)\n",
    "            outputs = model(inputs)\n",
    "            loss = criterion(outputs, labels)\n",
    "            val_loss += loss.item()\n",
    "            val_accuracy.update((torch.round(nn.functional.softmax(outputs, dim=1)), labels))\n",
    "    print(f\"Val Accuracy: {val_accuracy.compute()}\")\n",
    "    val_loss /= len(val_loader)\n",
    "    val_loss_formated = \"{:.4f}\".format(val_loss)\n",
    "    print(f'Training Loss: {train_loss_formated}')\n",
    "    print(f\"Validation Loss: {val_loss_formated}\")\n",
    "\n",
    "    # TensorBoard writer \n",
    "    writer.add_scalar('Loss/train', train_loss, epoch+1)\n",
    "    writer.add_scalar('Loss/val', val_loss, epoch+1)\n",
    "    writer.add_scalar('Accuracy/train', train_accuracy.compute(), epoch+1)\n",
    "    writer.add_scalar('Accuracy/val', val_accuracy.compute(), epoch+1)\n",
    "\n",
    "    # Early Stopping\n",
    "    early_stopping(val_loss, model)       \n",
    "    if early_stopping.early_stop:\n",
    "        print(\"Early stopping\")\n",
    "        break\n",
    "        \n",
    "# load the last checkpoint with the best model\n",
    "model.load_state_dict(torch.load('/content/drive/MyDrive/skinmodel50.pt'))    "
   ]
  },
  {
   "cell_type": "markdown",
   "metadata": {
    "id": "mdKEr9UiSzzX"
   },
   "source": [
    "##\n",
    "## __5. Results.__\n",
    "### Model stopped training after 290 epochs (around 11-12 hours on 1 Tesla P100 GPU) with Early stopping point at 240 epochs. \n",
    "### Result metrics are:\n",
    "#### Train Accuracy: 0.9715385903231207\n",
    "#### Val Accuracy: 0.9846359385437542\n",
    "#### Training Loss: 0.0814\n",
    "#### Validation Loss: 0.0366\n",
    "####\n",
    "### Now we will look at confusion matrix and classification report with Precision, Recall, F1 score and AUC for each class."
   ]
  },
  {
   "cell_type": "code",
   "execution_count": 60,
   "metadata": {
    "colab": {
     "base_uri": "https://localhost:8080/",
     "height": 636
    },
    "id": "IIGH8GtgVv8D",
    "outputId": "3b322195-f033-4412-adb8-5f0849fa2455"
   },
   "outputs": [
    {
     "name": "stdout",
     "output_type": "stream",
     "text": [
      "              precision    recall  f1-score   support\n",
      "\n",
      "         MEL       0.94      0.98      0.96       123\n",
      "          NV       0.99      0.99      0.99      1081\n",
      "         BCC       1.00      0.97      0.98        66\n",
      "       AKIEC       0.98      0.93      0.96        46\n",
      "         BKL       0.97      0.97      0.97       146\n",
      "          DF       1.00      1.00      1.00        15\n",
      "        VASC       1.00      1.00      1.00        20\n",
      "\n",
      "    accuracy                           0.99      1497\n",
      "   macro avg       0.98      0.98      0.98      1497\n",
      "weighted avg       0.99      0.99      0.99      1497\n",
      "\n",
      "AUC of class MEL = 0.9996153891669921\n",
      "AUC of class NV = 0.9989504020493845\n",
      "AUC of class BCC = 0.9999576477563898\n",
      "AUC of class AKIEC = 0.9997003565756749\n",
      "AUC of class BKL = 0.9993662735872971\n",
      "AUC of class DF = 1.0\n",
      "AUC of class VASC = 1.0\n"
     ]
    },
    {
     "data": {
      "image/png": "[encoded data removed]",
      "text/plain": [
       "<Figure size 432x288 with 2 Axes>"
      ]
     },
     "metadata": {
      "needs_background": "light",
      "tags": []
     },
     "output_type": "display_data"
    }
   ],
   "source": [
    "num_classes = 7\n",
    "\n",
    "predlist = torch.zeros(0,dtype=torch.long, device='cpu')\n",
    "lbllist = torch.zeros(0,dtype=torch.long, device='cpu')\n",
    "predlistauc = torch.zeros(0,dtype=torch.long, device='cpu')\n",
    "with torch.no_grad():\n",
    "    for i, (inputs, classes) in enumerate(val_loader):\n",
    "        model.eval()\n",
    "        inputs = inputs.to(device)\n",
    "        classes = classes.to(device)\n",
    "        outputs = model(inputs)\n",
    "        _, preds = torch.max(outputs, 1)\n",
    "\n",
    "        # Append batch prediction results\n",
    "        predlist=torch.cat([predlist,preds.view(-1).cpu()])\n",
    "        lbllist=torch.cat([lbllist,classes.view(-1).cpu()])\n",
    "        predlistauc = torch.cat([predlistauc,torch.sigmoid(outputs).cpu()])\n",
    "predlist = predlist.numpy()\n",
    "lbllist = lbllist.numpy()\n",
    "predlistauc = predlistauc.numpy()\n",
    "\n",
    "# Confusion matrix, classification report and AUC\n",
    "conf_mat=confusion_matrix(lbllist, predlist)\n",
    "target_names = ['MEL','NV','BCC','AKIEC','BKL','DF','VASC',]\n",
    "ConfusionMatrixDisplay(conf_mat, display_labels=target_names).plot(values_format=\"d\")\n",
    "print(classification_report(lbllist, predlist, target_names=target_names))\n",
    "lbllist_one_hot = nn.functional.one_hot(torch.tensor([lbllist]), num_classes=num_classes)\n",
    "every_auc = roc_auc_score(lbllist_one_hot.view([predlistauc.shape[0], predlistauc.shape[1]]), \n",
    "                                          predlistauc, multi_class='ovr', average=None)\n",
    "for i, every in enumerate(target_names):\n",
    "    print(f'AUC of class {every} = {every_auc[i]}')"
   ]
  },
  {
   "cell_type": "markdown",
   "metadata": {
    "id": "XjYATYLjSzzY"
   },
   "source": [
    "##\n",
    "### For better validation robustness lets spin validation dataset 5 times with random rotations and horizontal flip and then check our metrics again."
   ]
  },
  {
   "cell_type": "code",
   "execution_count": 78,
   "metadata": {
    "id": "ba_3orxRWrNH"
   },
   "outputs": [],
   "source": [
    "val_transforms = transforms.Compose([\n",
    "    transforms.Resize((224, 280)),\n",
    "    torchvision.transforms.CenterCrop((224, 224)),\n",
    "    transforms.RandomHorizontalFlip(p=0.5),\n",
    "    transforms.RandomApply(transforms=[transforms.RandomRotation(degrees=(-180, 180))], p=0.99),\n",
    "    transforms.ToTensor(),\n",
    "    transforms.Normalize(mean=[0.485, 0.456, 0.406], std=[0.229, 0.224, 0.225])\n",
    "    ])\n",
    "\n",
    "\n",
    "val_dataset = datasets.ImageFolder(\n",
    "    valdir, transform=val_transforms)\n",
    "\n",
    "val_loader = torch.utils.data.DataLoader(\n",
    "    val_dataset, batch_size=64, shuffle=True,\n",
    "    pin_memory=False, drop_last=False)"
   ]
  },
  {
   "cell_type": "code",
   "execution_count": 79,
   "metadata": {
    "colab": {
     "base_uri": "https://localhost:8080/",
     "height": 636
    },
    "id": "2knpgw_BWSPA",
    "outputId": "8514d1c1-bb17-43a3-c81e-dc69138fb4ec"
   },
   "outputs": [
    {
     "name": "stdout",
     "output_type": "stream",
     "text": [
      "              precision    recall  f1-score   support\n",
      "\n",
      "         MEL       0.91      0.98      0.94       615\n",
      "          NV       0.99      0.99      0.99      5405\n",
      "         BCC       1.00      0.98      0.99       330\n",
      "       AKIEC       1.00      0.92      0.95       230\n",
      "         BKL       0.96      0.97      0.96       730\n",
      "          DF       0.97      1.00      0.99        75\n",
      "        VASC       0.99      1.00      1.00       100\n",
      "\n",
      "    accuracy                           0.98      7485\n",
      "   macro avg       0.97      0.98      0.97      7485\n",
      "weighted avg       0.98      0.98      0.98      7485\n",
      "\n",
      "AUC of class MEL = 0.9987474704441368\n",
      "AUC of class NV = 0.9982364530705188\n",
      "AUC of class BCC = 0.9999500243525401\n",
      "AUC of class AKIEC = 0.9996817786833668\n",
      "AUC of class BKL = 0.9992403394745648\n",
      "AUC of class DF = 0.9999712100764733\n",
      "AUC of class VASC = 0.9999945836154368\n"
     ]
    },
    {
     "data": {
      "image/png": "[encoded data removed]",
      "text/plain": [
       "<Figure size 432x288 with 2 Axes>"
      ]
     },
     "metadata": {
      "needs_background": "light",
      "tags": []
     },
     "output_type": "display_data"
    }
   ],
   "source": [
    "num_classes = 7\n",
    "\n",
    "predlist=torch.zeros(0,dtype=torch.long, device='cpu')\n",
    "lbllist=torch.zeros(0,dtype=torch.long, device='cpu')\n",
    "predlistauc = torch.zeros(0,dtype=torch.long, device='cpu')\n",
    "for n in range(5):\n",
    "    with torch.no_grad():\n",
    "        for i, (inputs, classes) in enumerate(val_loader):\n",
    "            model.eval()\n",
    "            inputs = inputs.to(device)\n",
    "            classes = classes.to(device)\n",
    "            outputs = model(inputs)\n",
    "            _, preds = torch.max(outputs, 1)\n",
    "\n",
    "            # Append batch prediction results\n",
    "            predlist=torch.cat([predlist,preds.view(-1).cpu()])\n",
    "            lbllist=torch.cat([lbllist,classes.view(-1).cpu()])\n",
    "            predlistauc = torch.cat([predlistauc,torch.sigmoid(outputs).cpu()])\n",
    "predlist = predlist.numpy()\n",
    "lbllist = lbllist.numpy()\n",
    "predlistauc = predlistauc.numpy() \n",
    "\n",
    "# Confusion matrix, classification report and AUC\n",
    "conf_mat=confusion_matrix(lbllist, predlist)\n",
    "target_names = ['MEL','NV','BCC','AKIEC','BKL','DF','VASC',]\n",
    "ConfusionMatrixDisplay(conf_mat, display_labels=target_names).plot(values_format=\"d\")\n",
    "print(classification_report(lbllist, predlist, target_names=target_names))\n",
    "lbllist_one_hot = nn.functional.one_hot(torch.tensor([lbllist]), num_classes=num_classes)\n",
    "every_auc = roc_auc_score(lbllist_one_hot.view([predlistauc.shape[0], predlistauc.shape[1]]), \n",
    "                                          predlistauc, multi_class='ovr', average=None)\n",
    "for i, every in enumerate(target_names):\n",
    "    print(f'AUC of class {every} = {every_auc[i]}')"
   ]
  },
  {
   "cell_type": "markdown",
   "metadata": {
    "id": "qO5DsTOzWMNP"
   },
   "source": [
    "## In the end we were able to achieve 97% average F1 score with all by class AUCs close to 100%! \n",
    "## And what is interesting, even on 2 classes with smallest representations (only 78 and 58 training images) we still were able to achieve 100 and 99% F1 score respectively.\n",
    "## I believe that the most important reason for that good of a result were well chosen data augmentations that helped not only to enrich our dataset, but also prevent overfitting. "
   ]
  },
  {
   "cell_type": "code",
   "execution_count": null,
   "metadata": {
    "id": "bb5LELKD_nXB"
   },
   "outputs": [],
   "source": []
  },
  {
   "cell_type": "code",
   "execution_count": null,
   "metadata": {
    "id": "6pC898gplY-m"
   },
   "outputs": [],
   "source": []
  },
  {
   "cell_type": "code",
   "execution_count": null,
   "metadata": {
    "id": "rhpH7Ha8mQIT"
   },
   "outputs": [],
   "source": []
  },
  {
   "cell_type": "code",
   "execution_count": null,
   "metadata": {
    "id": "jCGTmkoomK4o"
   },
   "outputs": [],
   "source": []
  },
  {
   "cell_type": "code",
   "execution_count": null,
   "metadata": {
    "id": "lrqQRd8_mLGV"
   },
   "outputs": [],
   "source": []
  },
  {
   "cell_type": "code",
   "execution_count": null,
   "metadata": {
    "id": "abo6wXKFmn0U"
   },
   "outputs": [],
   "source": []
  },
  {
   "cell_type": "code",
   "execution_count": null,
   "metadata": {
    "id": "Njeda-DsmnuV"
   },
   "outputs": [],
   "source": []
  },
  {
   "cell_type": "code",
   "execution_count": null,
   "metadata": {
    "id": "zrI3pmORmnjR"
   },
   "outputs": [],
   "source": []
  },
  {
   "cell_type": "code",
   "execution_count": null,
   "metadata": {
    "id": "idZ1ktX4XEbp"
   },
   "outputs": [],
   "source": []
  },
  {
   "cell_type": "code",
   "execution_count": null,
   "metadata": {
    "id": "u1pxSmKOpE5D"
   },
   "outputs": [],
   "source": []
  },
  {
   "cell_type": "code",
   "execution_count": null,
   "metadata": {
    "id": "tOzJl9HvpE1r"
   },
   "outputs": [],
   "source": []
  },
  {
   "cell_type": "code",
   "execution_count": null,
   "metadata": {
    "id": "nwR-xJEIpEyc"
   },
   "outputs": [],
   "source": []
  },
  {
   "cell_type": "code",
   "execution_count": null,
   "metadata": {
    "id": "g8gZguTlpEvJ"
   },
   "outputs": [],
   "source": []
  },
  {
   "cell_type": "code",
   "execution_count": null,
   "metadata": {
    "id": "Q6CXvtssSzzb"
   },
   "outputs": [],
   "source": []
  },
  {
   "cell_type": "code",
   "execution_count": null,
   "metadata": {
    "id": "Vj6vxtjTpEpD"
   },
   "outputs": [],
   "source": []
  },
  {
   "cell_type": "code",
   "execution_count": null,
   "metadata": {
    "id": "NSYK89QFpEl7"
   },
   "outputs": [],
   "source": []
  },
  {
   "cell_type": "code",
   "execution_count": null,
   "metadata": {
    "id": "GJKwnxhRpEjD"
   },
   "outputs": [],
   "source": []
  },
  {
   "cell_type": "code",
   "execution_count": null,
   "metadata": {
    "id": "qCDRAdCupEf7"
   },
   "outputs": [],
   "source": []
  },
  {
   "cell_type": "code",
   "execution_count": null,
   "metadata": {
    "id": "cBsW4tZcpEc5"
   },
   "outputs": [],
   "source": []
  },
  {
   "cell_type": "code",
   "execution_count": null,
   "metadata": {
    "id": "liBxt_uapEaC"
   },
   "outputs": [],
   "source": []
  },
  {
   "cell_type": "code",
   "execution_count": null,
   "metadata": {
    "id": "Nr3Li9ZvpEXE"
   },
   "outputs": [],
   "source": []
  },
  {
   "cell_type": "code",
   "execution_count": null,
   "metadata": {
    "id": "rt7VkxWApEUV"
   },
   "outputs": [],
   "source": []
  },
  {
   "cell_type": "code",
   "execution_count": null,
   "metadata": {
    "id": "4dCpSeESpERg"
   },
   "outputs": [],
   "source": []
  },
  {
   "cell_type": "code",
   "execution_count": null,
   "metadata": {
    "id": "LY0IikIYpEOi"
   },
   "outputs": [],
   "source": []
  },
  {
   "cell_type": "code",
   "execution_count": null,
   "metadata": {
    "id": "ZoukV-LdpEI8"
   },
   "outputs": [],
   "source": []
  },
  {
   "cell_type": "code",
   "execution_count": null,
   "metadata": {
    "id": "KeNg9CNppEBc"
   },
   "outputs": [],
   "source": []
  }
 ],
 "metadata": {
  "accelerator": "GPU",
  "colab": {
   "collapsed_sections": [],
   "name": "Skin_classifier.ipynb",
   "provenance": []
  },
  "kernelspec": {
   "display_name": "Python 3",
   "language": "python",
   "name": "python3"
  },
  "language_info": {
   "codemirror_mode": {
    "name": "ipython",
    "version": 3
   },
   "file_extension": ".py",
   "mimetype": "text/x-python",
   "name": "python",
   "nbconvert_exporter": "python",
   "pygments_lexer": "ipython3",
   "version": "3.8.7"
  },
  "widgets": {
   "application/vnd.jupyter.widget-state+json": {
    "1acf94a172b34beb97719742f7a340ab": {
     "model_module": "@jupyter-widgets/base",
     "model_name": "LayoutModel",
     "state": {
      "_model_module": "@jupyter-widgets/base",
      "_model_module_version": "1.2.0",
      "_model_name": "LayoutModel",
      "_view_count": null,
      "_view_module": "@jupyter-widgets/base",
      "_view_module_version": "1.2.0",
      "_view_name": "LayoutView",
      "align_content": null,
      "align_items": null,
      "align_self": null,
      "border": null,
      "bottom": null,
      "display": null,
      "flex": null,
      "flex_flow": null,
      "grid_area": null,
      "grid_auto_columns": null,
      "grid_auto_flow": null,
      "grid_auto_rows": null,
      "grid_column": null,
      "grid_gap": null,
      "grid_row": null,
      "grid_template_areas": null,
      "grid_template_columns": null,
      "grid_template_rows": null,
      "height": null,
      "justify_content": null,
      "justify_items": null,
      "left": null,
      "margin": null,
      "max_height": null,
      "max_width": null,
      "min_height": null,
      "min_width": null,
      "object_fit": null,
      "object_position": null,
      "order": null,
      "overflow": null,
      "overflow_x": null,
      "overflow_y": null,
      "padding": null,
      "right": null,
      "top": null,
      "visibility": null,
      "width": null
     }
    },
    "2c91fd89d7094f8ea80eab7135278b66": {
     "model_module": "@jupyter-widgets/controls",
     "model_name": "HTMLModel",
     "state": {
      "_dom_classes": [],
      "_model_module": "@jupyter-widgets/controls",
      "_model_module_version": "1.5.0",
      "_model_name": "HTMLModel",
      "_view_count": null,
      "_view_module": "@jupyter-widgets/controls",
      "_view_module_version": "1.5.0",
      "_view_name": "HTMLView",
      "description": "",
      "description_tooltip": null,
      "layout": "IPY_MODEL_cf56e07ca31e4aaead598e4c76ed59c0",
      "placeholder": "​",
      "style": "IPY_MODEL_518ad6c229e24a889f18f5dc571b49a1",
      "value": " 97.8M/97.8M [00:08&lt;00:00, 12.8MB/s]"
     }
    },
    "518ad6c229e24a889f18f5dc571b49a1": {
     "model_module": "@jupyter-widgets/controls",
     "model_name": "DescriptionStyleModel",
     "state": {
      "_model_module": "@jupyter-widgets/controls",
      "_model_module_version": "1.5.0",
      "_model_name": "DescriptionStyleModel",
      "_view_count": null,
      "_view_module": "@jupyter-widgets/base",
      "_view_module_version": "1.2.0",
      "_view_name": "StyleView",
      "description_width": ""
     }
    },
    "581a27dd91bc472aa20bdbb2fbe794fe": {
     "model_module": "@jupyter-widgets/controls",
     "model_name": "HBoxModel",
     "state": {
      "_dom_classes": [],
      "_model_module": "@jupyter-widgets/controls",
      "_model_module_version": "1.5.0",
      "_model_name": "HBoxModel",
      "_view_count": null,
      "_view_module": "@jupyter-widgets/controls",
      "_view_module_version": "1.5.0",
      "_view_name": "HBoxView",
      "box_style": "",
      "children": [
       "IPY_MODEL_bfd31272c80a423689c64c1c2e188e5f",
       "IPY_MODEL_2c91fd89d7094f8ea80eab7135278b66"
      ],
      "layout": "IPY_MODEL_7cb55a1237a14f27ab76d29213929c6b"
     }
    },
    "67a4bc927924426986a014b522a2d3ac": {
     "model_module": "@jupyter-widgets/controls",
     "model_name": "ProgressStyleModel",
     "state": {
      "_model_module": "@jupyter-widgets/controls",
      "_model_module_version": "1.5.0",
      "_model_name": "ProgressStyleModel",
      "_view_count": null,
      "_view_module": "@jupyter-widgets/base",
      "_view_module_version": "1.2.0",
      "_view_name": "StyleView",
      "bar_color": null,
      "description_width": "initial"
     }
    },
    "7cb55a1237a14f27ab76d29213929c6b": {
     "model_module": "@jupyter-widgets/base",
     "model_name": "LayoutModel",
     "state": {
      "_model_module": "@jupyter-widgets/base",
      "_model_module_version": "1.2.0",
      "_model_name": "LayoutModel",
      "_view_count": null,
      "_view_module": "@jupyter-widgets/base",
      "_view_module_version": "1.2.0",
      "_view_name": "LayoutView",
      "align_content": null,
      "align_items": null,
      "align_self": null,
      "border": null,
      "bottom": null,
      "display": null,
      "flex": null,
      "flex_flow": null,
      "grid_area": null,
      "grid_auto_columns": null,
      "grid_auto_flow": null,
      "grid_auto_rows": null,
      "grid_column": null,
      "grid_gap": null,
      "grid_row": null,
      "grid_template_areas": null,
      "grid_template_columns": null,
      "grid_template_rows": null,
      "height": null,
      "justify_content": null,
      "justify_items": null,
      "left": null,
      "margin": null,
      "max_height": null,
      "max_width": null,
      "min_height": null,
      "min_width": null,
      "object_fit": null,
      "object_position": null,
      "order": null,
      "overflow": null,
      "overflow_x": null,
      "overflow_y": null,
      "padding": null,
      "right": null,
      "top": null,
      "visibility": null,
      "width": null
     }
    },
    "bfd31272c80a423689c64c1c2e188e5f": {
     "model_module": "@jupyter-widgets/controls",
     "model_name": "FloatProgressModel",
     "state": {
      "_dom_classes": [],
      "_model_module": "@jupyter-widgets/controls",
      "_model_module_version": "1.5.0",
      "_model_name": "FloatProgressModel",
      "_view_count": null,
      "_view_module": "@jupyter-widgets/controls",
      "_view_module_version": "1.5.0",
      "_view_name": "ProgressView",
      "bar_style": "success",
      "description": "100%",
      "description_tooltip": null,
      "layout": "IPY_MODEL_1acf94a172b34beb97719742f7a340ab",
      "max": 102530333,
      "min": 0,
      "orientation": "horizontal",
      "style": "IPY_MODEL_67a4bc927924426986a014b522a2d3ac",
      "value": 102530333
     }
    },
    "cf56e07ca31e4aaead598e4c76ed59c0": {
     "model_module": "@jupyter-widgets/base",
     "model_name": "LayoutModel",
     "state": {
      "_model_module": "@jupyter-widgets/base",
      "_model_module_version": "1.2.0",
      "_model_name": "LayoutModel",
      "_view_count": null,
      "_view_module": "@jupyter-widgets/base",
      "_view_module_version": "1.2.0",
      "_view_name": "LayoutView",
      "align_content": null,
      "align_items": null,
      "align_self": null,
      "border": null,
      "bottom": null,
      "display": null,
      "flex": null,
      "flex_flow": null,
      "grid_area": null,
      "grid_auto_columns": null,
      "grid_auto_flow": null,
      "grid_auto_rows": null,
      "grid_column": null,
      "grid_gap": null,
      "grid_row": null,
      "grid_template_areas": null,
      "grid_template_columns": null,
      "grid_template_rows": null,
      "height": null,
      "justify_content": null,
      "justify_items": null,
      "left": null,
      "margin": null,
      "max_height": null,
      "max_width": null,
      "min_height": null,
      "min_width": null,
      "object_fit": null,
      "object_position": null,
      "order": null,
      "overflow": null,
      "overflow_x": null,
      "overflow_y": null,
      "padding": null,
      "right": null,
      "top": null,
      "visibility": null,
      "width": null
     }
    }
   }
  }
 },
 "nbformat": 4,
 "nbformat_minor": 4
}
